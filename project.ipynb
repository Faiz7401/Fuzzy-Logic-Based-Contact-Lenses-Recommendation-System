{
 "cells": [
  {
   "cell_type": "code",
   "execution_count": 2,
   "metadata": {},
   "outputs": [
    {
     "name": "stdout",
     "output_type": "stream",
     "text": [
      "Requirement already satisfied: scikit-fuzzy in c:\\users\\user\\appdata\\local\\packages\\pythonsoftwarefoundation.python.3.10_qbz5n2kfra8p0\\localcache\\local-packages\\python310\\site-packages (0.4.2)\n",
      "Requirement already satisfied: numpy>=1.6.0 in c:\\users\\user\\appdata\\local\\packages\\pythonsoftwarefoundation.python.3.10_qbz5n2kfra8p0\\localcache\\local-packages\\python310\\site-packages (from scikit-fuzzy) (1.22.4)\n",
      "Requirement already satisfied: scipy>=0.9.0 in c:\\users\\user\\appdata\\local\\packages\\pythonsoftwarefoundation.python.3.10_qbz5n2kfra8p0\\localcache\\local-packages\\python310\\site-packages (from scikit-fuzzy) (1.8.1)\n",
      "Requirement already satisfied: networkx>=1.9.0 in c:\\users\\user\\appdata\\local\\packages\\pythonsoftwarefoundation.python.3.10_qbz5n2kfra8p0\\localcache\\local-packages\\python310\\site-packages (from scikit-fuzzy) (2.8.2)\n"
     ]
    },
    {
     "name": "stderr",
     "output_type": "stream",
     "text": [
      "WARNING: You are using pip version 22.0.4; however, version 22.1.2 is available.\n",
      "You should consider upgrading via the 'C:\\Users\\User\\AppData\\Local\\Microsoft\\WindowsApps\\PythonSoftwareFoundation.Python.3.10_qbz5n2kfra8p0\\python.exe -m pip install --upgrade pip' command.\n"
     ]
    },
    {
     "ename": "ModuleNotFoundError",
     "evalue": "No module named 'matplotlib'",
     "output_type": "error",
     "traceback": [
      "\u001b[1;31m---------------------------------------------------------------------------\u001b[0m",
      "\u001b[1;31mModuleNotFoundError\u001b[0m                       Traceback (most recent call last)",
      "\u001b[1;32mc:\\Users\\User\\OneDrive\\Desktop\\UMP\\Mata pelajaran\\Year 2\\Sem 4\\Artifical Intilingence\\project.ipynb Cell 1'\u001b[0m in \u001b[0;36m<cell line: 5>\u001b[1;34m()\u001b[0m\n\u001b[0;32m      <a href='vscode-notebook-cell:/c%3A/Users/User/OneDrive/Desktop/UMP/Mata%20pelajaran/Year%202/Sem%204/Artifical%20Intilingence/project.ipynb#ch0000000?line=2'>3</a>\u001b[0m \u001b[39mimport\u001b[39;00m \u001b[39mnumpy\u001b[39;00m \u001b[39mas\u001b[39;00m \u001b[39mnp\u001b[39;00m\n\u001b[0;32m      <a href='vscode-notebook-cell:/c%3A/Users/User/OneDrive/Desktop/UMP/Mata%20pelajaran/Year%202/Sem%204/Artifical%20Intilingence/project.ipynb#ch0000000?line=3'>4</a>\u001b[0m \u001b[39mimport\u001b[39;00m \u001b[39mskfuzzy\u001b[39;00m \u001b[39mas\u001b[39;00m \u001b[39mfuzz\u001b[39;00m\n\u001b[1;32m----> <a href='vscode-notebook-cell:/c%3A/Users/User/OneDrive/Desktop/UMP/Mata%20pelajaran/Year%202/Sem%204/Artifical%20Intilingence/project.ipynb#ch0000000?line=4'>5</a>\u001b[0m \u001b[39mfrom\u001b[39;00m \u001b[39mskfuzzy\u001b[39;00m \u001b[39mimport\u001b[39;00m control \u001b[39mas\u001b[39;00m ctrl\n\u001b[0;32m      <a href='vscode-notebook-cell:/c%3A/Users/User/OneDrive/Desktop/UMP/Mata%20pelajaran/Year%202/Sem%204/Artifical%20Intilingence/project.ipynb#ch0000000?line=6'>7</a>\u001b[0m \u001b[39m# New Antecedent/Consequent objects hold universe variables and membership\u001b[39;00m\n\u001b[0;32m      <a href='vscode-notebook-cell:/c%3A/Users/User/OneDrive/Desktop/UMP/Mata%20pelajaran/Year%202/Sem%204/Artifical%20Intilingence/project.ipynb#ch0000000?line=7'>8</a>\u001b[0m \u001b[39m# functions\u001b[39;00m\n\u001b[0;32m      <a href='vscode-notebook-cell:/c%3A/Users/User/OneDrive/Desktop/UMP/Mata%20pelajaran/Year%202/Sem%204/Artifical%20Intilingence/project.ipynb#ch0000000?line=8'>9</a>\u001b[0m AgeOfThePatient \u001b[39m=\u001b[39m ctrl\u001b[39m.\u001b[39mAntecedent(np\u001b[39m.\u001b[39marange(\u001b[39m0\u001b[39m, \u001b[39m101\u001b[39m, \u001b[39m1\u001b[39m), \u001b[39m'\u001b[39m\u001b[39mAgeOfThePatient\u001b[39m\u001b[39m'\u001b[39m)\n",
      "File \u001b[1;32m~\\AppData\\Local\\Packages\\PythonSoftwareFoundation.Python.3.10_qbz5n2kfra8p0\\LocalCache\\local-packages\\Python310\\site-packages\\skfuzzy\\control\\__init__.py:15\u001b[0m, in \u001b[0;36m<module>\u001b[1;34m\u001b[0m\n\u001b[0;32m      <a href='file:///c%3A/Users/User/AppData/Local/Packages/PythonSoftwareFoundation.Python.3.10_qbz5n2kfra8p0/LocalCache/local-packages/Python310/site-packages/skfuzzy/control/__init__.py?line=0'>1</a>\u001b[0m \u001b[39m\"\"\"\u001b[39;00m\n\u001b[0;32m      <a href='file:///c%3A/Users/User/AppData/Local/Packages/PythonSoftwareFoundation.Python.3.10_qbz5n2kfra8p0/LocalCache/local-packages/Python310/site-packages/skfuzzy/control/__init__.py?line=1'>2</a>\u001b[0m \u001b[39mskfuzzy.control subpackage, providing a high-level API for fuzzy system design.\u001b[39;00m\n\u001b[0;32m      <a href='file:///c%3A/Users/User/AppData/Local/Packages/PythonSoftwareFoundation.Python.3.10_qbz5n2kfra8p0/LocalCache/local-packages/Python310/site-packages/skfuzzy/control/__init__.py?line=2'>3</a>\u001b[0m \n\u001b[0;32m      <a href='file:///c%3A/Users/User/AppData/Local/Packages/PythonSoftwareFoundation.Python.3.10_qbz5n2kfra8p0/LocalCache/local-packages/Python310/site-packages/skfuzzy/control/__init__.py?line=3'>4</a>\u001b[0m \u001b[39m\"\"\"\u001b[39;00m\n\u001b[0;32m      <a href='file:///c%3A/Users/User/AppData/Local/Packages/PythonSoftwareFoundation.Python.3.10_qbz5n2kfra8p0/LocalCache/local-packages/Python310/site-packages/skfuzzy/control/__init__.py?line=5'>6</a>\u001b[0m __all__ \u001b[39m=\u001b[39m [\u001b[39m'\u001b[39m\u001b[39mAntecedent\u001b[39m\u001b[39m'\u001b[39m,\n\u001b[0;32m      <a href='file:///c%3A/Users/User/AppData/Local/Packages/PythonSoftwareFoundation.Python.3.10_qbz5n2kfra8p0/LocalCache/local-packages/Python310/site-packages/skfuzzy/control/__init__.py?line=6'>7</a>\u001b[0m            \u001b[39m'\u001b[39m\u001b[39mConsequent\u001b[39m\u001b[39m'\u001b[39m,\n\u001b[0;32m      <a href='file:///c%3A/Users/User/AppData/Local/Packages/PythonSoftwareFoundation.Python.3.10_qbz5n2kfra8p0/LocalCache/local-packages/Python310/site-packages/skfuzzy/control/__init__.py?line=7'>8</a>\u001b[0m            \u001b[39m'\u001b[39m\u001b[39mControlSystem\u001b[39m\u001b[39m'\u001b[39m,\n\u001b[1;32m   (...)\u001b[0m\n\u001b[0;32m     <a href='file:///c%3A/Users/User/AppData/Local/Packages/PythonSoftwareFoundation.Python.3.10_qbz5n2kfra8p0/LocalCache/local-packages/Python310/site-packages/skfuzzy/control/__init__.py?line=11'>12</a>\u001b[0m            \u001b[39m'\u001b[39m\u001b[39maccumulation_mult\u001b[39m\u001b[39m'\u001b[39m,\n\u001b[0;32m     <a href='file:///c%3A/Users/User/AppData/Local/Packages/PythonSoftwareFoundation.Python.3.10_qbz5n2kfra8p0/LocalCache/local-packages/Python310/site-packages/skfuzzy/control/__init__.py?line=12'>13</a>\u001b[0m            ]\n\u001b[1;32m---> <a href='file:///c%3A/Users/User/AppData/Local/Packages/PythonSoftwareFoundation.Python.3.10_qbz5n2kfra8p0/LocalCache/local-packages/Python310/site-packages/skfuzzy/control/__init__.py?line=14'>15</a>\u001b[0m \u001b[39mfrom\u001b[39;00m \u001b[39m.\u001b[39;00m\u001b[39mantecedent_consequent\u001b[39;00m \u001b[39mimport\u001b[39;00m (Antecedent, Consequent,\n\u001b[0;32m     <a href='file:///c%3A/Users/User/AppData/Local/Packages/PythonSoftwareFoundation.Python.3.10_qbz5n2kfra8p0/LocalCache/local-packages/Python310/site-packages/skfuzzy/control/__init__.py?line=15'>16</a>\u001b[0m                                     accumulation_max, accumulation_mult)\n\u001b[0;32m     <a href='file:///c%3A/Users/User/AppData/Local/Packages/PythonSoftwareFoundation.Python.3.10_qbz5n2kfra8p0/LocalCache/local-packages/Python310/site-packages/skfuzzy/control/__init__.py?line=16'>17</a>\u001b[0m \u001b[39mfrom\u001b[39;00m \u001b[39m.\u001b[39;00m\u001b[39mcontrolsystem\u001b[39;00m \u001b[39mimport\u001b[39;00m ControlSystem, ControlSystemSimulation\n\u001b[0;32m     <a href='file:///c%3A/Users/User/AppData/Local/Packages/PythonSoftwareFoundation.Python.3.10_qbz5n2kfra8p0/LocalCache/local-packages/Python310/site-packages/skfuzzy/control/__init__.py?line=17'>18</a>\u001b[0m \u001b[39mfrom\u001b[39;00m \u001b[39m.\u001b[39;00m\u001b[39mrule\u001b[39;00m \u001b[39mimport\u001b[39;00m Rule\n",
      "File \u001b[1;32m~\\AppData\\Local\\Packages\\PythonSoftwareFoundation.Python.3.10_qbz5n2kfra8p0\\LocalCache\\local-packages\\Python310\\site-packages\\skfuzzy\\control\\antecedent_consequent.py:8\u001b[0m, in \u001b[0;36m<module>\u001b[1;34m\u001b[0m\n\u001b[0;32m      <a href='file:///c%3A/Users/User/AppData/Local/Packages/PythonSoftwareFoundation.Python.3.10_qbz5n2kfra8p0/LocalCache/local-packages/Python310/site-packages/skfuzzy/control/antecedent_consequent.py?line=4'>5</a>\u001b[0m \u001b[39mimport\u001b[39;00m \u001b[39mnetworkx\u001b[39;00m \u001b[39mas\u001b[39;00m \u001b[39mnx\u001b[39;00m\n\u001b[0;32m      <a href='file:///c%3A/Users/User/AppData/Local/Packages/PythonSoftwareFoundation.Python.3.10_qbz5n2kfra8p0/LocalCache/local-packages/Python310/site-packages/skfuzzy/control/antecedent_consequent.py?line=6'>7</a>\u001b[0m \u001b[39mfrom\u001b[39;00m \u001b[39m.\u001b[39;00m\u001b[39mstate\u001b[39;00m \u001b[39mimport\u001b[39;00m StatefulProperty\n\u001b[1;32m----> <a href='file:///c%3A/Users/User/AppData/Local/Packages/PythonSoftwareFoundation.Python.3.10_qbz5n2kfra8p0/LocalCache/local-packages/Python310/site-packages/skfuzzy/control/antecedent_consequent.py?line=7'>8</a>\u001b[0m \u001b[39mfrom\u001b[39;00m \u001b[39m.\u001b[39;00m\u001b[39mfuzzyvariable\u001b[39;00m \u001b[39mimport\u001b[39;00m FuzzyVariable\n\u001b[0;32m     <a href='file:///c%3A/Users/User/AppData/Local/Packages/PythonSoftwareFoundation.Python.3.10_qbz5n2kfra8p0/LocalCache/local-packages/Python310/site-packages/skfuzzy/control/antecedent_consequent.py?line=10'>11</a>\u001b[0m \u001b[39mdef\u001b[39;00m \u001b[39maccumulation_max\u001b[39m(\u001b[39m*\u001b[39margs):\n\u001b[0;32m     <a href='file:///c%3A/Users/User/AppData/Local/Packages/PythonSoftwareFoundation.Python.3.10_qbz5n2kfra8p0/LocalCache/local-packages/Python310/site-packages/skfuzzy/control/antecedent_consequent.py?line=11'>12</a>\u001b[0m     \u001b[39m\"\"\"\u001b[39;00m\n\u001b[0;32m     <a href='file:///c%3A/Users/User/AppData/Local/Packages/PythonSoftwareFoundation.Python.3.10_qbz5n2kfra8p0/LocalCache/local-packages/Python310/site-packages/skfuzzy/control/antecedent_consequent.py?line=12'>13</a>\u001b[0m \u001b[39m    Take the maximum of input values/arrays.\u001b[39;00m\n\u001b[0;32m     <a href='file:///c%3A/Users/User/AppData/Local/Packages/PythonSoftwareFoundation.Python.3.10_qbz5n2kfra8p0/LocalCache/local-packages/Python310/site-packages/skfuzzy/control/antecedent_consequent.py?line=13'>14</a>\u001b[0m \n\u001b[0;32m     <a href='file:///c%3A/Users/User/AppData/Local/Packages/PythonSoftwareFoundation.Python.3.10_qbz5n2kfra8p0/LocalCache/local-packages/Python310/site-packages/skfuzzy/control/antecedent_consequent.py?line=14'>15</a>\u001b[0m \u001b[39m    This is the default OR aggregation method for a fuzzy Rule.\u001b[39;00m\n\u001b[0;32m     <a href='file:///c%3A/Users/User/AppData/Local/Packages/PythonSoftwareFoundation.Python.3.10_qbz5n2kfra8p0/LocalCache/local-packages/Python310/site-packages/skfuzzy/control/antecedent_consequent.py?line=15'>16</a>\u001b[0m \u001b[39m    \"\"\"\u001b[39;00m\n",
      "File \u001b[1;32m~\\AppData\\Local\\Packages\\PythonSoftwareFoundation.Python.3.10_qbz5n2kfra8p0\\LocalCache\\local-packages\\Python310\\site-packages\\skfuzzy\\control\\fuzzyvariable.py:7\u001b[0m, in \u001b[0;36m<module>\u001b[1;34m\u001b[0m\n\u001b[0;32m      <a href='file:///c%3A/Users/User/AppData/Local/Packages/PythonSoftwareFoundation.Python.3.10_qbz5n2kfra8p0/LocalCache/local-packages/Python310/site-packages/skfuzzy/control/fuzzyvariable.py?line=3'>4</a>\u001b[0m \u001b[39mimport\u001b[39;00m \u001b[39mnumpy\u001b[39;00m \u001b[39mas\u001b[39;00m \u001b[39mnp\u001b[39;00m\n\u001b[0;32m      <a href='file:///c%3A/Users/User/AppData/Local/Packages/PythonSoftwareFoundation.Python.3.10_qbz5n2kfra8p0/LocalCache/local-packages/Python310/site-packages/skfuzzy/control/fuzzyvariable.py?line=5'>6</a>\u001b[0m \u001b[39mfrom\u001b[39;00m \u001b[39m.\u001b[39;00m\u001b[39m.\u001b[39;00m\u001b[39mmembership\u001b[39;00m \u001b[39mimport\u001b[39;00m trimf\n\u001b[1;32m----> <a href='file:///c%3A/Users/User/AppData/Local/Packages/PythonSoftwareFoundation.Python.3.10_qbz5n2kfra8p0/LocalCache/local-packages/Python310/site-packages/skfuzzy/control/fuzzyvariable.py?line=6'>7</a>\u001b[0m \u001b[39mfrom\u001b[39;00m \u001b[39m.\u001b[39;00m\u001b[39mvisualization\u001b[39;00m \u001b[39mimport\u001b[39;00m FuzzyVariableVisualizer\n\u001b[0;32m      <a href='file:///c%3A/Users/User/AppData/Local/Packages/PythonSoftwareFoundation.Python.3.10_qbz5n2kfra8p0/LocalCache/local-packages/Python310/site-packages/skfuzzy/control/fuzzyvariable.py?line=7'>8</a>\u001b[0m \u001b[39mfrom\u001b[39;00m \u001b[39m.\u001b[39;00m\u001b[39mterm\u001b[39;00m \u001b[39mimport\u001b[39;00m Term\n\u001b[0;32m     <a href='file:///c%3A/Users/User/AppData/Local/Packages/PythonSoftwareFoundation.Python.3.10_qbz5n2kfra8p0/LocalCache/local-packages/Python310/site-packages/skfuzzy/control/fuzzyvariable.py?line=9'>10</a>\u001b[0m \u001b[39mtry\u001b[39;00m:\n",
      "File \u001b[1;32m~\\AppData\\Local\\Packages\\PythonSoftwareFoundation.Python.3.10_qbz5n2kfra8p0\\LocalCache\\local-packages\\Python310\\site-packages\\skfuzzy\\control\\visualization.py:8\u001b[0m, in \u001b[0;36m<module>\u001b[1;34m\u001b[0m\n\u001b[0;32m      <a href='file:///c%3A/Users/User/AppData/Local/Packages/PythonSoftwareFoundation.Python.3.10_qbz5n2kfra8p0/LocalCache/local-packages/Python310/site-packages/skfuzzy/control/visualization.py?line=5'>6</a>\u001b[0m \u001b[39mimport\u001b[39;00m \u001b[39mnumpy\u001b[39;00m \u001b[39mas\u001b[39;00m \u001b[39mnp\u001b[39;00m\n\u001b[0;32m      <a href='file:///c%3A/Users/User/AppData/Local/Packages/PythonSoftwareFoundation.Python.3.10_qbz5n2kfra8p0/LocalCache/local-packages/Python310/site-packages/skfuzzy/control/visualization.py?line=6'>7</a>\u001b[0m \u001b[39mimport\u001b[39;00m \u001b[39mnetworkx\u001b[39;00m \u001b[39mas\u001b[39;00m \u001b[39mnx\u001b[39;00m\n\u001b[1;32m----> <a href='file:///c%3A/Users/User/AppData/Local/Packages/PythonSoftwareFoundation.Python.3.10_qbz5n2kfra8p0/LocalCache/local-packages/Python310/site-packages/skfuzzy/control/visualization.py?line=7'>8</a>\u001b[0m \u001b[39mimport\u001b[39;00m \u001b[39mmatplotlib\u001b[39;00m\u001b[39m.\u001b[39;00m\u001b[39mpyplot\u001b[39;00m \u001b[39mas\u001b[39;00m \u001b[39mplt\u001b[39;00m\n\u001b[0;32m     <a href='file:///c%3A/Users/User/AppData/Local/Packages/PythonSoftwareFoundation.Python.3.10_qbz5n2kfra8p0/LocalCache/local-packages/Python310/site-packages/skfuzzy/control/visualization.py?line=9'>10</a>\u001b[0m \u001b[39mfrom\u001b[39;00m \u001b[39m.\u001b[39;00m\u001b[39m.\u001b[39;00m\u001b[39mfuzzymath\u001b[39;00m\u001b[39m.\u001b[39;00m\u001b[39mfuzzy_ops\u001b[39;00m \u001b[39mimport\u001b[39;00m interp_membership\n\u001b[0;32m     <a href='file:///c%3A/Users/User/AppData/Local/Packages/PythonSoftwareFoundation.Python.3.10_qbz5n2kfra8p0/LocalCache/local-packages/Python310/site-packages/skfuzzy/control/visualization.py?line=12'>13</a>\u001b[0m \u001b[39mclass\u001b[39;00m \u001b[39mFuzzyVariableVisualizer\u001b[39;00m(\u001b[39mobject\u001b[39m):\n",
      "\u001b[1;31mModuleNotFoundError\u001b[0m: No module named 'matplotlib'"
     ]
    }
   ],
   "source": [
    "!pip install -U scikit-fuzzy\n",
    "\n",
    "import numpy as np\n",
    "import skfuzzy as fuzz\n",
    "from skfuzzy import control as ctrl\n",
    "\n",
    "# New Antecedent/Consequent objects hold universe variables and membership\n",
    "# functions\n",
    "AgeOfThePatient = ctrl.Antecedent(np.arange(0, 101, 1), 'AgeOfThePatient')\n",
    "SpectaclePrescription = ctrl.Antecedent(np.arange(0, 101, 1), 'SpectaclePrescription')\n",
    "astigmatic = ctrl.Antecedent(np.arange(0, 101, 1), 'astigmatic')\n",
    "TearProductionRate = ctrl.Antecedent(np.arange(0, 101, 1), 'TearProductionRate')\n",
    "ContactLensesFitting = ctrl.Consequent(np.arange(0, 101, 1), 'ContactLensesFitting')\n",
    "# Custom membership functions for age of the patient\n",
    "# Pythonic API\n",
    "AgeOfThePatient['young'] = fuzz.trapmf(AgeOfThePatient.universe, [0, 0, 30,45])\n",
    "AgeOfThePatient['pre-presbyopic'] = fuzz.trimf(AgeOfThePatient.universe, [25, 50, 75])\n",
    "AgeOfThePatient['presbyopic'] = fuzz.trapmf(AgeOfThePatient.universe, [59, 65, 100,100])\n",
    "\n",
    "# Custom membership functions for spectacle prescription\n",
    "SpectaclePrescription['myope'] = fuzz.trapmf(SpectaclePrescription.universe, [0, 0, 30,60])\n",
    "SpectaclePrescription['hypermetrope'] = fuzz.trapmf(SpectaclePrescription.universe, [50, 75, 100,100])\n",
    "\n",
    "# Custom membership functions for astigmatic\n",
    "astigmatic['no'] = fuzz.trapmf(astigmatic.universe, [0, 0, 30,60])\n",
    "astigmatic['yes'] = fuzz.trapmf(astigmatic.universe, [50, 75, 100,100])\n",
    "\n",
    "# Custom membership functions for tear production rate\n",
    "TearProductionRate['reduce'] = fuzz.trapmf(TearProductionRate.universe, [0, 0, 30,60])\n",
    "TearProductionRate['normal'] = fuzz.trapmf(TearProductionRate.universe, [50, 75, 100,100])\n",
    "\n",
    "# Custom membership functions for Contact Lenses Fitting\n",
    "ContactLensesFitting['No Contact Lenses'] = fuzz.trapmf(ContactLensesFitting.universe, [0, 0, 30,45])\n",
    "ContactLensesFitting['Soft Contact Lenses'] = fuzz.trimf(ContactLensesFitting.universe, [25, 50, 75])\n",
    "ContactLensesFitting['Hard Contact Lenses'] = fuzz.trapmf(ContactLensesFitting.universe, [59, 65, 100,100])\n",
    "\n",
    "AgeOfThePatient.view()\n",
    "SpectaclePrescription.view()\n",
    "astigmatic.view()\n",
    "TearProductionRate.view()\n",
    "ContactLensesFitting.view()\n",
    "\n",
    "rule1 = ctrl.Rule(AgeOfThePatient['young'] & SpectaclePrescription['myope'] & astigmatic['no']\n",
    "& TearProductionRate['reduce'], ContactLensesFitting['No Contact Lenses'])\n",
    "rule2 = ctrl.Rule(AgeOfThePatient['young'] & SpectaclePrescription['myope'] & astigmatic['no']\n",
    "& TearProductionRate['normal'], ContactLensesFitting['Soft Contact Lenses'])\n",
    "rule3 = ctrl.Rule(AgeOfThePatient['young'] & SpectaclePrescription['myope'] & astigmatic['yes'\n",
    "] & TearProductionRate['normal'], ContactLensesFitting['Hard Contact Lenses'])\n",
    "rule4 = ctrl.Rule(AgeOfThePatient['pre-presbyopic'] & SpectaclePrescription['myope']\n",
    "& astigmatic['yes'] & TearProductionRate['normal'], ContactLensesFitting['Hard Contact Lenses'\n",
    "])\n",
    "rule5 = ctrl.Rule(AgeOfThePatient['pre-presbyopic'] & SpectaclePrescription['hypermetrope']\n",
    "& astigmatic['yes'] & TearProductionRate['normal'], ContactLensesFitting['No Contact Lenses'])\n",
    "rule6 = ctrl.Rule(AgeOfThePatient['presbyopic'] & SpectaclePrescription['myope'] & astigmatic[\n",
    "'no'] & TearProductionRate['normal'], ContactLensesFitting['No Contact Lenses'])\n",
    "rule7 = ctrl.Rule(AgeOfThePatient['presbyopic'] & SpectaclePrescription['myope'] & astigmatic[\n",
    "'yes'] & TearProductionRate['normal'], ContactLensesFitting['Hard Contact Lenses'])\n",
    "rule8 = ctrl.Rule(AgeOfThePatient['presbyopic'] & SpectaclePrescription['hypermetrope'] & astigmatic['no'] & TearProductionRate['normal'], ContactLensesFitting['Soft Contact Lenses'])\n",
    "rule9 = ctrl.Rule(AgeOfThePatient['presbyopic'] & SpectaclePrescription['hypermetrope'] & astigmatic['yes'] & TearProductionRate['normal'], ContactLensesFitting['No Contact Lenses'])\n",
    "ContactLensesFittings_ctrl = ctrl.ControlSystem([rule1, rule2, rule3, rule4, rule5, rule6, rule7, rule8, rule9])\n",
    "\n",
    "\n",
    "\n",
    "#example input\n",
    "ContactLensesFittings = ctrl.ControlSystemSimulation(ContactLensesFittings_ctrl)\n",
    "ContactLensesFittings.input['AgeOfThePatient'] = 70\n",
    "ContactLensesFittings.input['SpectaclePrescription'] = 65\n",
    "ContactLensesFittings.input['astigmatic'] = 35\n",
    "ContactLensesFittings.input['TearProductionRate'] = 65\n",
    "ContactLensesFittings.compute()\n",
    "ContactLensesFittings.compute()\n",
    "\n",
    "print(ContactLensesFittings.output['ContactLensesFitting'])\n",
    "ContactLensesFitting.view(sim=ContactLensesFittings)\n"
   ]
  },
  {
   "cell_type": "code",
   "execution_count": null,
   "metadata": {},
   "outputs": [],
   "source": []
  },
  {
   "cell_type": "code",
   "execution_count": null,
   "metadata": {},
   "outputs": [],
   "source": []
  }
 ],
 "metadata": {
  "interpreter": {
   "hash": "3b7e9cb8e453d6cda0fe8c8dd13f891a1f09162f0e7c66ffeae7751a7aecf00d"
  },
  "kernelspec": {
   "display_name": "Python 3.10.4 64-bit (windows store)",
   "language": "python",
   "name": "python3"
  },
  "language_info": {
   "codemirror_mode": {
    "name": "ipython",
    "version": 3
   },
   "file_extension": ".py",
   "mimetype": "text/x-python",
   "name": "python",
   "nbconvert_exporter": "python",
   "pygments_lexer": "ipython3",
   "version": "3.10.4"
  },
  "orig_nbformat": 4
 },
 "nbformat": 4,
 "nbformat_minor": 2
}
